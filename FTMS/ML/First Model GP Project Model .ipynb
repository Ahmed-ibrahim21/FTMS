{
 "cells": [
  {
   "cell_type": "markdown",
   "id": "47cb2acd-d049-423c-ae04-8eaf630f9012",
   "metadata": {},
   "source": [
    "## Import Libraries"
   ]
  },
  {
   "cell_type": "code",
   "execution_count": 1,
   "id": "3dfb754c",
   "metadata": {
    "_cell_guid": "b1076dfc-b9ad-4769-8c92-a6c4dae69d19",
    "_uuid": "8f2839f25d086af736a60e9eeb907d3b93b6e0e5",
    "papermill": {
     "duration": 3.557885,
     "end_time": "2024-01-15T15:11:08.095007",
     "exception": false,
     "start_time": "2024-01-15T15:11:04.537122",
     "status": "completed"
    },
    "tags": []
   },
   "outputs": [],
   "source": [
    "import numpy as np\n",
    "import pandas as pd\n",
    "from sklearn.model_selection import train_test_split\n",
    "from sklearn.linear_model import LinearRegression\n",
    "from sklearn.metrics import mean_squared_error , r2_score\n",
    "import warnings\n",
    "warnings.filterwarnings('ignore')\n",
    "import joblib"
   ]
  },
  {
   "cell_type": "markdown",
   "id": "b8769f7f-7bbc-42db-b261-03fa33310cce",
   "metadata": {},
   "source": [
    "## Load The Dataset"
   ]
  },
  {
   "cell_type": "code",
   "execution_count": 2,
   "id": "e8c52c51-e72b-4f1e-a42a-8fb4cc9dada0",
   "metadata": {},
   "outputs": [],
   "source": [
    "df= pd.read_csv(\"First Model GP Project.csv\")"
   ]
  },
  {
   "cell_type": "code",
   "execution_count": 3,
   "id": "738fa0d1-e841-4f1a-b08b-36e01f7b057b",
   "metadata": {},
   "outputs": [
    {
     "data": {
      "text/html": [
       "<div>\n",
       "<style scoped>\n",
       "    .dataframe tbody tr th:only-of-type {\n",
       "        vertical-align: middle;\n",
       "    }\n",
       "\n",
       "    .dataframe tbody tr th {\n",
       "        vertical-align: top;\n",
       "    }\n",
       "\n",
       "    .dataframe thead th {\n",
       "        text-align: right;\n",
       "    }\n",
       "</style>\n",
       "<table border=\"1\" class=\"dataframe\">\n",
       "  <thead>\n",
       "    <tr style=\"text-align: right;\">\n",
       "      <th></th>\n",
       "      <th>Unnamed: 0</th>\n",
       "      <th>age</th>\n",
       "      <th>weight(kg)</th>\n",
       "      <th>height(m)</th>\n",
       "      <th>gender</th>\n",
       "      <th>BMI</th>\n",
       "      <th>BMR</th>\n",
       "      <th>activity_level</th>\n",
       "      <th>calories_to_maintain_weight</th>\n",
       "      <th>BMI_tags</th>\n",
       "      <th>Label</th>\n",
       "    </tr>\n",
       "  </thead>\n",
       "  <tbody>\n",
       "    <tr>\n",
       "      <th>0</th>\n",
       "      <td>1</td>\n",
       "      <td>2</td>\n",
       "      <td>16.097862</td>\n",
       "      <td>0.932025</td>\n",
       "      <td>F</td>\n",
       "      <td>18.531612</td>\n",
       "      <td>958.584</td>\n",
       "      <td>1.2</td>\n",
       "      <td>1150.3008</td>\n",
       "      <td>8</td>\n",
       "      <td>13</td>\n",
       "    </tr>\n",
       "    <tr>\n",
       "      <th>1</th>\n",
       "      <td>2</td>\n",
       "      <td>4</td>\n",
       "      <td>14.619374</td>\n",
       "      <td>0.916687</td>\n",
       "      <td>F</td>\n",
       "      <td>17.397496</td>\n",
       "      <td>932.383</td>\n",
       "      <td>1.7</td>\n",
       "      <td>1585.0511</td>\n",
       "      <td>7</td>\n",
       "      <td>1</td>\n",
       "    </tr>\n",
       "    <tr>\n",
       "      <th>2</th>\n",
       "      <td>4</td>\n",
       "      <td>4</td>\n",
       "      <td>17.899918</td>\n",
       "      <td>0.997288</td>\n",
       "      <td>F</td>\n",
       "      <td>17.997414</td>\n",
       "      <td>977.578</td>\n",
       "      <td>1.9</td>\n",
       "      <td>1857.3982</td>\n",
       "      <td>7</td>\n",
       "      <td>4</td>\n",
       "    </tr>\n",
       "    <tr>\n",
       "      <th>3</th>\n",
       "      <td>6</td>\n",
       "      <td>3</td>\n",
       "      <td>13.532880</td>\n",
       "      <td>1.022786</td>\n",
       "      <td>F</td>\n",
       "      <td>12.936609</td>\n",
       "      <td>944.689</td>\n",
       "      <td>1.9</td>\n",
       "      <td>1794.9091</td>\n",
       "      <td>7</td>\n",
       "      <td>3</td>\n",
       "    </tr>\n",
       "    <tr>\n",
       "      <th>4</th>\n",
       "      <td>8</td>\n",
       "      <td>4</td>\n",
       "      <td>17.039484</td>\n",
       "      <td>1.053977</td>\n",
       "      <td>M</td>\n",
       "      <td>15.338909</td>\n",
       "      <td>799.229</td>\n",
       "      <td>1.9</td>\n",
       "      <td>1518.5351</td>\n",
       "      <td>7</td>\n",
       "      <td>0</td>\n",
       "    </tr>\n",
       "  </tbody>\n",
       "</table>\n",
       "</div>"
      ],
      "text/plain": [
       "   Unnamed: 0  age  weight(kg)  height(m) gender        BMI      BMR  \\\n",
       "0           1    2   16.097862   0.932025      F  18.531612  958.584   \n",
       "1           2    4   14.619374   0.916687      F  17.397496  932.383   \n",
       "2           4    4   17.899918   0.997288      F  17.997414  977.578   \n",
       "3           6    3   13.532880   1.022786      F  12.936609  944.689   \n",
       "4           8    4   17.039484   1.053977      M  15.338909  799.229   \n",
       "\n",
       "   activity_level  calories_to_maintain_weight  BMI_tags  Label  \n",
       "0             1.2                    1150.3008         8     13  \n",
       "1             1.7                    1585.0511         7      1  \n",
       "2             1.9                    1857.3982         7      4  \n",
       "3             1.9                    1794.9091         7      3  \n",
       "4             1.9                    1518.5351         7      0  "
      ]
     },
     "execution_count": 3,
     "metadata": {},
     "output_type": "execute_result"
    }
   ],
   "source": [
    "df.head()"
   ]
  },
  {
   "cell_type": "markdown",
   "id": "b31acbaf-677f-48c3-b9f0-fcacd1beffaa",
   "metadata": {},
   "source": [
    "## Removing Unnecessary Columns"
   ]
  },
  {
   "cell_type": "code",
   "execution_count": 4,
   "id": "18af2ba6-25c0-40b8-a026-c919a28ee141",
   "metadata": {},
   "outputs": [],
   "source": [
    "df= df.drop([\"Unnamed: 0\",\"BMI_tags\",\"Label\"],axis=1)"
   ]
  },
  {
   "cell_type": "markdown",
   "id": "d125ae81-7e5c-42ae-91c6-6dbd7369ba65",
   "metadata": {},
   "source": [
    "## Convert Categorical Gender Column to Numercal"
   ]
  },
  {
   "cell_type": "code",
   "execution_count": 5,
   "id": "1e5b29a3-839e-43c5-b9a9-063f587f1419",
   "metadata": {},
   "outputs": [],
   "source": [
    "df = pd.get_dummies(df, columns=['gender'], drop_first=False)"
   ]
  },
  {
   "cell_type": "markdown",
   "id": "04191e6c-94a4-44d2-aa08-ea1e6f14b0c0",
   "metadata": {},
   "source": [
    "### Traning The model By \n",
    "#### Dividing data into Features \"X\" and target value \"Y\" \n",
    "#### Splitting data into Training and Testing\n",
    "#### Using The model LinearRegression\n",
    "#### Finally Evaluating The model by R2 Score and Mean Squared error"
   ]
  },
  {
   "cell_type": "code",
   "execution_count": 6,
   "id": "b094b04e-c3cd-4d54-8e09-194f39651288",
   "metadata": {},
   "outputs": [],
   "source": [
    "def train_calorie_model(df):\n",
    "    X = df.drop(['calories_to_maintain_weight'], axis=1)\n",
    "    y = df['calories_to_maintain_weight']\n",
    "    X_train, X_test, y_train, y_test = train_test_split(X, y, test_size=0.1, random_state=42)\n",
    "    model = LinearRegression()\n",
    "    model.fit(X_train, y_train)\n",
    "    y_pred = model.predict(X_test)\n",
    "    print(f\"Model R2 Score: {r2_score(y_test, y_pred):.4f}\")\n",
    "    print(f\"Mean Squared Error: {mean_squared_error(y_test, y_pred):.2f}\")\n",
    "    return model"
   ]
  },
  {
   "cell_type": "markdown",
   "id": "a725fd5f-5de2-498a-a178-71ecb177b3e7",
   "metadata": {},
   "source": [
    "### Saving The model"
   ]
  },
  {
   "cell_type": "code",
   "execution_count": 7,
   "id": "e7d4f360-bbe9-4feb-952c-33f5759429f6",
   "metadata": {},
   "outputs": [
    {
     "name": "stdout",
     "output_type": "stream",
     "text": [
      "Model R2 Score: 0.9874\n",
      "Mean Squared Error: 1966.03\n"
     ]
    },
    {
     "data": {
      "text/plain": [
       "['calorie_model.pkl']"
      ]
     },
     "execution_count": 7,
     "metadata": {},
     "output_type": "execute_result"
    }
   ],
   "source": [
    "model = train_calorie_model(df)\n",
    "joblib.dump(model, \"calorie_model.pkl\")"
   ]
  },
  {
   "cell_type": "markdown",
   "id": "dccfb5d7-15bb-41e6-8809-d2f20e884791",
   "metadata": {},
   "source": [
    "## Calculate BMI "
   ]
  },
  {
   "cell_type": "code",
   "execution_count": 8,
   "id": "d96f96e1-b218-4381-9c8e-8190bc27e8ca",
   "metadata": {},
   "outputs": [],
   "source": [
    "def calculate_bmi(weight_kg, height_m):\n",
    "    return weight_kg / (height_m ** 2)"
   ]
  },
  {
   "cell_type": "markdown",
   "id": "6badb7b4-9e60-4240-ab95-e58ef6e1bbfc",
   "metadata": {},
   "source": [
    "## Calculate BMR"
   ]
  },
  {
   "cell_type": "code",
   "execution_count": 9,
   "id": "db516749-2245-4245-947e-34c383b018ae",
   "metadata": {},
   "outputs": [],
   "source": [
    "def calculate_bmr(age, weight_kg, height_m, gender_F, gender_M):\n",
    "    if gender_F == 1:  # Female\n",
    "        return 655 + (9.6 * weight_kg) + (1.8 * height_m * 100) - (4.7 * age)\n",
    "    elif gender_M == 1:  # Male\n",
    "        return 66 + (13.7 * weight_kg) + (5 * height_m * 100) - (6.8 * age)\n",
    "    else:\n",
    "        raise ValueError(\"Invalid gender values\")"
   ]
  },
  {
   "cell_type": "markdown",
   "id": "cadca2f0-62f8-4a6c-b2e5-cf6048fc3d15",
   "metadata": {},
   "source": [
    "## Calculate Calories"
   ]
  },
  {
   "cell_type": "code",
   "execution_count": 10,
   "id": "c19174c3-05b8-4e6c-bcf5-6717763d6c38",
   "metadata": {},
   "outputs": [],
   "source": [
    "def predict_calories(user_inputs, model):\n",
    "    bmi = calculate_bmi(user_inputs['weight'], user_inputs['height'])\n",
    "    bmr = calculate_bmr(user_inputs['age'], user_inputs['weight'], user_inputs['height'],\n",
    "                        user_inputs['gender_F'], user_inputs['gender_M'])\n",
    "    \n",
    "    features = np.array([[user_inputs['age'], user_inputs['weight'], user_inputs['height'],\n",
    "                          bmi, bmr, user_inputs['activity_level'],\n",
    "                          user_inputs['gender_F'], user_inputs['gender_M']]])\n",
    "    \n",
    "    predicted_calories = model.predict(features)[0]\n",
    "\n",
    "    if bmi < 18.5:\n",
    "        predicted_calories += 300  \n",
    "    elif bmi >= 30:\n",
    "        predicted_calories -= 300  \n",
    "    return round(predicted_calories)"
   ]
  },
  {
   "cell_type": "markdown",
   "id": "0cf307e8-a200-4c24-9bdc-3223909a2aec",
   "metadata": {},
   "source": [
    "### Example "
   ]
  },
  {
   "cell_type": "code",
   "execution_count": 11,
   "id": "656b6dba",
   "metadata": {
    "papermill": {
     "duration": 0.022949,
     "end_time": "2024-01-15T15:11:08.329933",
     "exception": false,
     "start_time": "2024-01-15T15:11:08.306984",
     "status": "completed"
    },
    "tags": []
   },
   "outputs": [
    {
     "name": "stdout",
     "output_type": "stream",
     "text": [
      "Predicted Daily Calories: 1227 kcal\n"
     ]
    }
   ],
   "source": [
    "user_input = {\n",
    "        \"age\": 2,\n",
    "        \"weight\": 16,\n",
    "        \"height\": 0.94,\n",
    "        \"activity_level\": 1.2,\n",
    "        \"gender_F\": 1,\n",
    "        \"gender_M\": 0\n",
    "    }\n",
    "\n",
    "User_Calories = predict_calories(user_input, model)\n",
    "print(f\"Predicted Daily Calories: {User_Calories} kcal\")"
   ]
  },
  {
   "cell_type": "code",
   "execution_count": null,
   "id": "fbd9771e-1c63-4c59-a28c-a23e71ae314f",
   "metadata": {},
   "outputs": [],
   "source": []
  }
 ],
 "metadata": {
  "kaggle": {
   "accelerator": "none",
   "dataSources": [
    {
     "datasetId": 311962,
     "sourceId": 783630,
     "sourceType": "datasetVersion"
    },
    {
     "datasetId": 937303,
     "sourceId": 1588653,
     "sourceType": "datasetVersion"
    },
    {
     "datasetId": 1522116,
     "sourceId": 2512961,
     "sourceType": "datasetVersion"
    }
   ],
   "dockerImageVersionId": 30626,
   "isGpuEnabled": false,
   "isInternetEnabled": true,
   "language": "python",
   "sourceType": "notebook"
  },
  "kernelspec": {
   "display_name": "Python 3 (ipykernel)",
   "language": "python",
   "name": "python3"
  },
  "language_info": {
   "codemirror_mode": {
    "name": "ipython",
    "version": 3
   },
   "file_extension": ".py",
   "mimetype": "text/x-python",
   "name": "python",
   "nbconvert_exporter": "python",
   "pygments_lexer": "ipython3",
   "version": "3.11.7"
  },
  "papermill": {
   "default_parameters": {},
   "duration": 22298.091358,
   "end_time": "2024-01-15T21:22:38.668919",
   "environment_variables": {},
   "exception": null,
   "input_path": "__notebook__.ipynb",
   "output_path": "__notebook__.ipynb",
   "parameters": {},
   "start_time": "2024-01-15T15:11:00.577561",
   "version": "2.4.0"
  }
 },
 "nbformat": 4,
 "nbformat_minor": 5
}
